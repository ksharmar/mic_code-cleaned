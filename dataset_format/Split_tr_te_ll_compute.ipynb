{
 "cells": [
  {
   "cell_type": "code",
   "execution_count": 1,
   "metadata": {},
   "outputs": [],
   "source": [
    "from sklearn.model_selection import train_test_split\n",
    "import numpy as np\n",
    "\n",
    "datadir = 'data/kwon/'\n",
    "\n",
    "y = np.loadtxt(datadir + 'labels.txt')\n",
    "X = np.arange(len(y))\n",
    "X_train, X_test, y_train, y_test = train_test_split(X, y,\n",
    "                                                    stratify=y, \n",
    "                                                    test_size=0.20, random_state=123)  # 42)"
   ]
  },
  {
   "cell_type": "code",
   "execution_count": 2,
   "metadata": {},
   "outputs": [
    {
     "data": {
      "text/plain": [
       "array([  5,  24,  36, 108,   3,  60,  51,  34,  94,  57,  63, 105,  69,\n",
       "        43,  35,  86,  88,  50,  18,  33,  42,  15,  49,  22,  92,  89,\n",
       "       109, 104,  12, 107,  21,  29,  99, 106,  14,  76,  85,  58,  73,\n",
       "        44,  41, 101,   1,  37,  54,  20,  83,  17, 102,  30,  81,  70,\n",
       "        96,  16,  67,  72,  59,  11,  91,  39,   6,  68,  55,  82, 100,\n",
       "         9,  28,  38,  65,   0, 103,   4,  84,   2, 110,  71,  31,  53,\n",
       "        97,  64,  61,   7,  19,  47,  90,  13,  23,  25])"
      ]
     },
     "execution_count": 2,
     "metadata": {},
     "output_type": "execute_result"
    }
   ],
   "source": [
    "X_train"
   ]
  },
  {
   "cell_type": "code",
   "execution_count": 3,
   "metadata": {},
   "outputs": [
    {
     "data": {
      "text/plain": [
       "array([80, 79, 10, 93, 98, 87, 62, 77, 95, 66, 75, 27, 46, 45, 74, 78, 26,\n",
       "       52,  8, 56, 40, 32, 48])"
      ]
     },
     "execution_count": 3,
     "metadata": {},
     "output_type": "execute_result"
    }
   ],
   "source": [
    "X_test"
   ]
  },
  {
   "cell_type": "code",
   "execution_count": 4,
   "metadata": {},
   "outputs": [],
   "source": [
    "\n",
    "np.savetxt(datadir + 'll2_train_ids.txt', X_train)"
   ]
  },
  {
   "cell_type": "code",
   "execution_count": null,
   "metadata": {},
   "outputs": [],
   "source": []
  }
 ],
 "metadata": {
  "kernelspec": {
   "display_name": "Python 3",
   "language": "python",
   "name": "python3"
  },
  "language_info": {
   "codemirror_mode": {
    "name": "ipython",
    "version": 3
   },
   "file_extension": ".py",
   "mimetype": "text/x-python",
   "name": "python",
   "nbconvert_exporter": "python",
   "pygments_lexer": "ipython3",
   "version": "3.8.3"
  }
 },
 "nbformat": 4,
 "nbformat_minor": 4
}
