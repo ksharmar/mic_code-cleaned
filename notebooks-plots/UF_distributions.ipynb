{
 "cells": [
  {
   "cell_type": "code",
   "execution_count": 1,
   "metadata": {},
   "outputs": [],
   "source": [
    "import sys\n",
    "sys.path.append('../')\n",
    "%load_ext autoreload\n",
    "%autoreload 2\n",
    "import pandas as pd\n",
    "import pickle as pkl\n",
    "import warnings\n",
    "warnings.simplefilter(action='ignore')\n",
    "import numpy as np\n",
    "from notebook_utils import *\n",
    "from parameter_estimation import load_data_util\n",
    "import numpy as np\n",
    "import pandas as pd\n",
    "import snap\n",
    "import operator\n",
    "from sklearn import metrics\n",
    "import networkx as nx\n",
    "import scikitplot as skplt\n",
    "import matplotlib.pyplot as plt\n",
    "%matplotlib inline\n",
    "plt.rc('font', family='serif', size='15') # controls default text sizes\n",
    "plt.rc('xtick', labelsize='15')\n",
    "plt.rc('ytick', labelsize='15')\n",
    "plt.rc('legend', fontsize='15') # legend fontsize\n",
    "plt.rc('axes', labelsize='15', titlesize='15')  # fontsize of the x and y labels # fontsize of the axes title\n",
    "# plt.rc('figure', titlesize=BIGGER_SIZE)  # fontsize of the figure title\n"
   ]
  },
  {
   "cell_type": "markdown",
   "metadata": {},
   "source": [
    "# Data load"
   ]
  },
  {
   "cell_type": "code",
   "execution_count": 2,
   "metadata": {},
   "outputs": [
    {
     "data": {
      "text/html": [
       "<div>\n",
       "<style scoped>\n",
       "    .dataframe tbody tr th:only-of-type {\n",
       "        vertical-align: middle;\n",
       "    }\n",
       "\n",
       "    .dataframe tbody tr th {\n",
       "        vertical-align: top;\n",
       "    }\n",
       "\n",
       "    .dataframe thead th {\n",
       "        text-align: right;\n",
       "    }\n",
       "</style>\n",
       "<table border=\"1\" class=\"dataframe\">\n",
       "  <thead>\n",
       "    <tr style=\"text-align: right;\">\n",
       "      <th></th>\n",
       "      <th>userid</th>\n",
       "      <th>followers</th>\n",
       "      <th>friends/followees</th>\n",
       "      <th>posts</th>\n",
       "      <th>u_t</th>\n",
       "      <th>u_f</th>\n",
       "      <th>features</th>\n",
       "      <th>casnames</th>\n",
       "    </tr>\n",
       "  </thead>\n",
       "  <tbody>\n",
       "    <tr>\n",
       "      <th>0</th>\n",
       "      <td>39357</td>\n",
       "      <td>186</td>\n",
       "      <td>0</td>\n",
       "      <td>9393</td>\n",
       "      <td>55</td>\n",
       "      <td>0</td>\n",
       "      <td>('clickbroke', '', False)</td>\n",
       "      <td>[]</td>\n",
       "    </tr>\n",
       "    <tr>\n",
       "      <th>1</th>\n",
       "      <td>41645179</td>\n",
       "      <td>2775</td>\n",
       "      <td>3057</td>\n",
       "      <td>27034</td>\n",
       "      <td>39</td>\n",
       "      <td>0</td>\n",
       "      <td>()</td>\n",
       "      <td>[]</td>\n",
       "    </tr>\n",
       "    <tr>\n",
       "      <th>2</th>\n",
       "      <td>51828921</td>\n",
       "      <td>23</td>\n",
       "      <td>18</td>\n",
       "      <td>52</td>\n",
       "      <td>7</td>\n",
       "      <td>0</td>\n",
       "      <td>('webosfrance', 'Palm Pre, Palm Eos et Palm we...</td>\n",
       "      <td>[]</td>\n",
       "    </tr>\n",
       "    <tr>\n",
       "      <th>3</th>\n",
       "      <td>1688</td>\n",
       "      <td>227</td>\n",
       "      <td>0</td>\n",
       "      <td>3135</td>\n",
       "      <td>17</td>\n",
       "      <td>1</td>\n",
       "      <td>('olouvRss', '', False)</td>\n",
       "      <td>['R_Ipod64.txt']</td>\n",
       "    </tr>\n",
       "    <tr>\n",
       "      <th>4</th>\n",
       "      <td>41625921</td>\n",
       "      <td>672</td>\n",
       "      <td>280</td>\n",
       "      <td>8200</td>\n",
       "      <td>3</td>\n",
       "      <td>45</td>\n",
       "      <td>()</td>\n",
       "      <td>['R_swineZombie.txt', 'R_SwinePork.txt']</td>\n",
       "    </tr>\n",
       "  </tbody>\n",
       "</table>\n",
       "</div>"
      ],
      "text/plain": [
       "     userid  followers  friends/followees  posts  u_t  u_f  \\\n",
       "0     39357        186                  0   9393   55    0   \n",
       "1  41645179       2775               3057  27034   39    0   \n",
       "2  51828921         23                 18     52    7    0   \n",
       "3      1688        227                  0   3135   17    1   \n",
       "4  41625921        672                280   8200    3   45   \n",
       "\n",
       "                                            features  \\\n",
       "0                          ('clickbroke', '', False)   \n",
       "1                                                 ()   \n",
       "2  ('webosfrance', 'Palm Pre, Palm Eos et Palm we...   \n",
       "3                            ('olouvRss', '', False)   \n",
       "4                                                 ()   \n",
       "\n",
       "                                   casnames  \n",
       "0                                        []  \n",
       "1                                        []  \n",
       "2                                        []  \n",
       "3                          ['R_Ipod64.txt']  \n",
       "4  ['R_swineZombie.txt', 'R_SwinePork.txt']  "
      ]
     },
     "execution_count": 2,
     "metadata": {},
     "output_type": "execute_result"
    }
   ],
   "source": [
    "df_f = pd.read_csv('UF_KWON.tsv', sep='\\t', header=0, usecols=[0,1,2,3,4,5,6,7])\n",
    "df_f.head()"
   ]
  },
  {
   "cell_type": "code",
   "execution_count": 3,
   "metadata": {},
   "outputs": [
    {
     "data": {
      "text/html": [
       "<div>\n",
       "<style scoped>\n",
       "    .dataframe tbody tr th:only-of-type {\n",
       "        vertical-align: middle;\n",
       "    }\n",
       "\n",
       "    .dataframe tbody tr th {\n",
       "        vertical-align: top;\n",
       "    }\n",
       "\n",
       "    .dataframe thead th {\n",
       "        text-align: right;\n",
       "    }\n",
       "</style>\n",
       "<table border=\"1\" class=\"dataframe\">\n",
       "  <thead>\n",
       "    <tr style=\"text-align: right;\">\n",
       "      <th></th>\n",
       "      <th>userid</th>\n",
       "      <th>followers</th>\n",
       "      <th>friends/followees</th>\n",
       "      <th>posts</th>\n",
       "      <th>u_t</th>\n",
       "      <th>u_f</th>\n",
       "    </tr>\n",
       "  </thead>\n",
       "  <tbody>\n",
       "    <tr>\n",
       "      <th>0</th>\n",
       "      <td>41645179</td>\n",
       "      <td>2775</td>\n",
       "      <td>3057</td>\n",
       "      <td>27034</td>\n",
       "      <td>39</td>\n",
       "      <td>0</td>\n",
       "    </tr>\n",
       "    <tr>\n",
       "      <th>1</th>\n",
       "      <td>51828921</td>\n",
       "      <td>23</td>\n",
       "      <td>18</td>\n",
       "      <td>52</td>\n",
       "      <td>7</td>\n",
       "      <td>0</td>\n",
       "    </tr>\n",
       "    <tr>\n",
       "      <th>2</th>\n",
       "      <td>53471447</td>\n",
       "      <td>339</td>\n",
       "      <td>496</td>\n",
       "      <td>1093</td>\n",
       "      <td>7</td>\n",
       "      <td>0</td>\n",
       "    </tr>\n",
       "    <tr>\n",
       "      <th>3</th>\n",
       "      <td>46161420</td>\n",
       "      <td>3</td>\n",
       "      <td>20</td>\n",
       "      <td>27967</td>\n",
       "      <td>15</td>\n",
       "      <td>0</td>\n",
       "    </tr>\n",
       "    <tr>\n",
       "      <th>4</th>\n",
       "      <td>54888609</td>\n",
       "      <td>974</td>\n",
       "      <td>1512</td>\n",
       "      <td>1787</td>\n",
       "      <td>8</td>\n",
       "      <td>0</td>\n",
       "    </tr>\n",
       "  </tbody>\n",
       "</table>\n",
       "</div>"
      ],
      "text/plain": [
       "     userid  followers  friends/followees  posts  u_t  u_f\n",
       "0  41645179       2775               3057  27034   39    0\n",
       "1  51828921         23                 18     52    7    0\n",
       "2  53471447        339                496   1093    7    0\n",
       "3  46161420          3                 20  27967   15    0\n",
       "4  54888609        974               1512   1787    8    0"
      ]
     },
     "execution_count": 3,
     "metadata": {},
     "output_type": "execute_result"
    }
   ],
   "source": [
    "df_t = pd.read_csv('UT_KWON.tsv', sep='\\t', header=0, usecols=[0,1,2,3,4,5])\n",
    "df_t.head()"
   ]
  },
  {
   "cell_type": "code",
   "execution_count": 136,
   "metadata": {},
   "outputs": [
    {
     "data": {
      "text/html": [
       "<div>\n",
       "<style scoped>\n",
       "    .dataframe tbody tr th:only-of-type {\n",
       "        vertical-align: middle;\n",
       "    }\n",
       "\n",
       "    .dataframe tbody tr th {\n",
       "        vertical-align: top;\n",
       "    }\n",
       "\n",
       "    .dataframe thead th {\n",
       "        text-align: right;\n",
       "    }\n",
       "</style>\n",
       "<table border=\"1\" class=\"dataframe\">\n",
       "  <thead>\n",
       "    <tr style=\"text-align: right;\">\n",
       "      <th></th>\n",
       "      <th>userid</th>\n",
       "      <th>u_t</th>\n",
       "      <th>u_f</th>\n",
       "    </tr>\n",
       "  </thead>\n",
       "  <tbody>\n",
       "    <tr>\n",
       "      <th>0</th>\n",
       "      <td>182741872</td>\n",
       "      <td>12</td>\n",
       "      <td>12</td>\n",
       "    </tr>\n",
       "    <tr>\n",
       "      <th>1</th>\n",
       "      <td>2388958777</td>\n",
       "      <td>16</td>\n",
       "      <td>0</td>\n",
       "    </tr>\n",
       "    <tr>\n",
       "      <th>2</th>\n",
       "      <td>2580423060</td>\n",
       "      <td>23</td>\n",
       "      <td>11</td>\n",
       "    </tr>\n",
       "    <tr>\n",
       "      <th>3</th>\n",
       "      <td>3438202888</td>\n",
       "      <td>11</td>\n",
       "      <td>13</td>\n",
       "    </tr>\n",
       "    <tr>\n",
       "      <th>4</th>\n",
       "      <td>169954894</td>\n",
       "      <td>20</td>\n",
       "      <td>3</td>\n",
       "    </tr>\n",
       "  </tbody>\n",
       "</table>\n",
       "</div>"
      ],
      "text/plain": [
       "       userid  u_t  u_f\n",
       "0   182741872   12   12\n",
       "1  2388958777   16    0\n",
       "2  2580423060   23   11\n",
       "3  3438202888   11   13\n",
       "4   169954894   20    3"
      ]
     },
     "execution_count": 136,
     "metadata": {},
     "output_type": "execute_result"
    }
   ],
   "source": [
    "tma_df_f = pd.read_csv('UF_TMA.tsv', sep='\\t', header=0, usecols=[0,1,2])\n",
    "tma_df_f.head()"
   ]
  },
  {
   "cell_type": "code",
   "execution_count": 137,
   "metadata": {},
   "outputs": [
    {
     "data": {
      "text/html": [
       "<div>\n",
       "<style scoped>\n",
       "    .dataframe tbody tr th:only-of-type {\n",
       "        vertical-align: middle;\n",
       "    }\n",
       "\n",
       "    .dataframe tbody tr th {\n",
       "        vertical-align: top;\n",
       "    }\n",
       "\n",
       "    .dataframe thead th {\n",
       "        text-align: right;\n",
       "    }\n",
       "</style>\n",
       "<table border=\"1\" class=\"dataframe\">\n",
       "  <thead>\n",
       "    <tr style=\"text-align: right;\">\n",
       "      <th></th>\n",
       "      <th>userid</th>\n",
       "      <th>u_t</th>\n",
       "      <th>u_f</th>\n",
       "    </tr>\n",
       "  </thead>\n",
       "  <tbody>\n",
       "    <tr>\n",
       "      <th>0</th>\n",
       "      <td>339429052</td>\n",
       "      <td>17</td>\n",
       "      <td>7</td>\n",
       "    </tr>\n",
       "    <tr>\n",
       "      <th>1</th>\n",
       "      <td>15613203</td>\n",
       "      <td>15</td>\n",
       "      <td>1</td>\n",
       "    </tr>\n",
       "    <tr>\n",
       "      <th>2</th>\n",
       "      <td>980941849</td>\n",
       "      <td>14</td>\n",
       "      <td>5</td>\n",
       "    </tr>\n",
       "    <tr>\n",
       "      <th>3</th>\n",
       "      <td>210778303</td>\n",
       "      <td>22</td>\n",
       "      <td>8</td>\n",
       "    </tr>\n",
       "    <tr>\n",
       "      <th>4</th>\n",
       "      <td>280122911</td>\n",
       "      <td>19</td>\n",
       "      <td>3</td>\n",
       "    </tr>\n",
       "  </tbody>\n",
       "</table>\n",
       "</div>"
      ],
      "text/plain": [
       "      userid  u_t  u_f\n",
       "0  339429052   17    7\n",
       "1   15613203   15    1\n",
       "2  980941849   14    5\n",
       "3  210778303   22    8\n",
       "4  280122911   19    3"
      ]
     },
     "execution_count": 137,
     "metadata": {},
     "output_type": "execute_result"
    }
   ],
   "source": [
    "tma_df_t = pd.read_csv('UT_TMA.tsv', sep='\\t', header=0, usecols=[0,1,2])\n",
    "tma_df_t.head()"
   ]
  },
  {
   "cell_type": "markdown",
   "metadata": {},
   "source": [
    "# num of followers cdf"
   ]
  },
  {
   "cell_type": "code",
   "execution_count": 391,
   "metadata": {},
   "outputs": [
    {
     "name": "stdout",
     "output_type": "stream",
     "text": [
      "[0, 1, 2, 5, 6, 9, 11, 12, 13, 14, 15, 19, 20, 21, 24, 25, 27, 28, 29, 30, 31, 32, 34, 36, 39, 40, 42, 43, 45, 48, 49, 51, 52, 56, 58, 59, 60, 62, 66, 67, 68, 71, 72, 73, 74, 78, 80, 83, 86, 88, 89, 90, 92, 93, 94, 95, 96, 97, 99]\n",
      "40\n",
      "[   1    7   11   43   58   67  116  126  162  197  220  224  227  242\n",
      "  242  281  284  321  396  404  442  514  556  583  621  647  653  661\n",
      "  672  773  817  856 1130 1723 2023 2829 3085 3273 5258 8829]\n"
     ]
    }
   ],
   "source": [
    "def get_followers(follcount, df, cond):\n",
    "    ind = get_incorrect(df, cond)\n",
    "    all_ind = np.arange(len(df))\n",
    "    comp = set(all_ind) - set(ind)\n",
    "    correct_fols = follcount[list(comp)]\n",
    "    # correct_fols = follcount\n",
    "    if cond == 'f':\n",
    "        i = np.argmax(correct_fols)\n",
    "        l = np.delete(correct_fols, i) \n",
    "    else:\n",
    "        l = correct_fols\n",
    "    return l\n",
    "\n",
    "follcount_f = np.array(df_f['followers'])\n",
    "c_f = get_followers(follcount_f, df_f, 'f')\n",
    "print(len(c_f))\n",
    "print(np.sort(c_f))"
   ]
  },
  {
   "cell_type": "code",
   "execution_count": 392,
   "metadata": {},
   "outputs": [
    {
     "name": "stdout",
     "output_type": "stream",
     "text": [
      "[7, 13, 16, 19, 21, 22, 26, 28, 46, 48, 57, 59, 67, 68, 70, 72, 88, 89, 91, 93, 97, 99]\n",
      "78\n",
      "[    1     2     3     6     9    14    17    21    23    26    38    43\n",
      "    47    51    58    58    67    67    82    83    85    88   121   150\n",
      "   165   169   175   193   198   204   217   224   226   241   248   257\n",
      "   262   281   339   339   409   437   501   575   621   635   683   780\n",
      "   786   799   808   862   866   884   936   974   980  1084  1118  1128\n",
      "  1387  1530  1570  1803  2684  2775  3002  3085  3101  3990  4740  5047\n",
      "  5773  9140 17874 22252 25757 54418]\n"
     ]
    }
   ],
   "source": [
    "follcount_t = np.array(df_t['followers'])\n",
    "c_t = get_followers(follcount_t, df_t, 't')\n",
    "print(len(c_t))\n",
    "print(np.sort(c_t))\n"
   ]
  },
  {
   "cell_type": "code",
   "execution_count": 393,
   "metadata": {},
   "outputs": [
    {
     "data": {
      "text/plain": [
       "<matplotlib.collections.PathCollection at 0x7facb0098e50>"
      ]
     },
     "execution_count": 393,
     "metadata": {},
     "output_type": "execute_result"
    },
    {
     "data": {
      "image/png": "[encoded data removed]",
      "text/plain": [
       "<Figure size 432x288 with 1 Axes>"
      ]
     },
     "metadata": {
      "needs_background": "light"
     },
     "output_type": "display_data"
    }
   ],
   "source": [
    "plt.scatter(np.arange(len(c_t)), c_t)\n",
    "plt.scatter(np.arange(len(c_f)), c_f)"
   ]
  },
  {
   "cell_type": "code",
   "execution_count": 576,
   "metadata": {},
   "outputs": [],
   "source": [
    "\n",
    "# plt.figure(figsize=(4,4))\n",
    "# cut = -1\n",
    "# arr = c_t[:cut]\n",
    "# plt.plot(np.sort(arr), np.linspace(0, 1, len(arr), endpoint=False), color='yellow', label='Inf(T)', linewidth=2)\n",
    "# arr = c_f[:cut-1]\n",
    "# plt.plot(np.sort(arr), np.linspace(0, 1, len(arr), endpoint=False), color='indianred', label='Inf(F)', linewidth=2)\n",
    "# plt.legend()\n",
    "# plt.tight_layout()\n",
    "# plt.show()\n",
    "# import seaborn as sns\n",
    "# sns.distplot(c_t)\n",
    "# sns.distplot(c_f)\n",
    "# plt.hist(c_t, normed=True, cumulative=False, label='Inf(T)',\n",
    "#          histtype='step', alpha=1.0, color='blue', linewidth=2)\n",
    "# plt.hist(c_f, normed=True, cumulative=False, label='Inf(F)',\n",
    "#          histtype='step', alpha=1.0, color='indianred', linewidth=2)\n",
    "# plt.legend()"
   ]
  },
  {
   "cell_type": "code",
   "execution_count": 571,
   "metadata": {},
   "outputs": [
    {
     "data": {
      "image/png": "[encoded data removed]",
      "text/plain": [
       "<Figure size 288x288 with 1 Axes>"
      ]
     },
     "metadata": {
      "needs_background": "light"
     },
     "output_type": "display_data"
    }
   ],
   "source": [
    "plt.figure(figsize=(4,4))\n",
    "data = list(c_t) + list(c_f)\n",
    "binwidth=50\n",
    "bins=np.arange(min(data), max(data) + binwidth, binwidth)\n",
    "# print(bins)\n",
    "\n",
    "plt.hist(c_f*1.0, bins=bins, normed=True, cumulative=True, label='Inf(F)',\n",
    "         histtype='step', alpha=1.0, color='indianred', linewidth=2)\n",
    "\n",
    "plt.hist(c_t*1.0, bins=bins, normed=True, cumulative=True, label='Inf(T)',\n",
    "         histtype='step', alpha=1.0, color='steelblue', linewidth=2)\n",
    "\n",
    "# x = [8800] # *4\n",
    "# y = [1.0] # [0.8, 0.9, 1.0, 1.05]\n",
    "# plt.plot(x, y, marker='*', markersize=10, color='black', linewidth=0, linestyle='')\n",
    "\n",
    "x = [8800]*4\n",
    "y = [0.7, 0.9, 1.0, 1.05]\n",
    "plt.plot(x, y, color='indianred', linewidth=2, linestyle='--')\n",
    "\n",
    "plt.xlim(-2000, 50000)\n",
    "plt.ylim(0, 1.05)\n",
    "plt.xticks(np.arange(-1000, 50000, 10000), labels=['0k', '10k', '20k', '30k', '40k', '50k'])\n",
    "plt.legend(loc='lower right')\n",
    "plt.ylabel('Emp. CDF')\n",
    "plt.xlabel('# Followers')\n",
    "plt.tight_layout()\n",
    "plt.savefig('inf_followers.pdf')"
   ]
  },
  {
   "cell_type": "markdown",
   "metadata": {},
   "source": [
    "# virality"
   ]
  },
  {
   "cell_type": "code",
   "execution_count": 87,
   "metadata": {},
   "outputs": [
    {
     "data": {
      "text/plain": [
       "array([  125,   604,   225,   131,    22,   505,   628,   846,    10,\n",
       "         372,   718,   240,   469,  1079,   477,    24,   129,  1006,\n",
       "          42,  1154,    13,   372,  1439,   342,    63,   123,   507,\n",
       "         517,   369,  3503,    19, 22653,    41,  1891,    77, 14495,\n",
       "          14,   102,   282,   145,   151,   916,   767,   116,  2715,\n",
       "        4820,   113,    51,   222,  9786,   930,    81,  2593,  1838,\n",
       "       14992,  4041,   120,    59,  3473,   131,    25,   304,   116,\n",
       "         579,   162,   414,   121,    14,    56,    48,  2511,    47,\n",
       "         258,   233,  2771,  4807,  1329,   302,    59,    20,   875,\n",
       "       13458,   633,   315,   112,    39, 25974,    36,   152,  2849,\n",
       "         103,    17,    15,  2157,   159,  7345,    98,  1872,  3958,\n",
       "          61,    95,    88,  1012,    61,    53,  3971,   171,  3650,\n",
       "          54,   142,  4961])"
      ]
     },
     "execution_count": 87,
     "metadata": {},
     "output_type": "execute_result"
    }
   ],
   "source": [
    "# cascade size distribution (ecdf)\n",
    "# cascade size of fake infl users\n",
    "# cascade size of true infl users\n",
    "# cascade size of infl users in general\n",
    "\n",
    "def get_cassizes(cascades):\n",
    "    sizes = [len(c) for c in cascades]\n",
    "    return np.array(sizes)\n",
    "\n",
    "cascades = read_cascades_file('../data/kwon/cascades.txt')\n",
    "sizes = get_cassizes(cascades)\n",
    "sizes"
   ]
  },
  {
   "cell_type": "code",
   "execution_count": 89,
   "metadata": {},
   "outputs": [
    {
     "name": "stdout",
     "output_type": "stream",
     "text": [
      "41 78\n",
      "42 42\n",
      "63 25 10\n"
     ]
    }
   ],
   "source": [
    "\n",
    "def get_cascades_of_users(cascades, ulist):\n",
    "    cas_ind = []\n",
    "    checkset = set(ulist)\n",
    "    for i, c in enumerate(cascades):\n",
    "        uset = set(c[:, 0])\n",
    "        if uset & checkset:\n",
    "            cas_ind.append(i)\n",
    "    return cas_ind\n",
    "\n",
    "def get_cascade_subset(cascades, casind):\n",
    "    subset = np.array(cascades)[casind]\n",
    "    return subset\n",
    "\n",
    "def get_correct_infl(infl, df, cond):\n",
    "    ind = get_incorrect(df, cond)\n",
    "    all_ind = np.arange(len(df))\n",
    "    comp = list(set(all_ind) - set(ind))\n",
    "    correct = infl[list(comp)]\n",
    "#     print('comp', comp, len(comp))\n",
    "#     if cond == 't':\n",
    "#         print(df.iloc[comp].loc[df['u_f'] > 0])\n",
    "    # correct = follcount\n",
    "    return correct\n",
    "\n",
    "fake_infl = df_f['userid']\n",
    "true_infl = df_t['userid']\n",
    "fake_infl = get_correct_infl(fake_infl, df_f, 'f')\n",
    "true_infl = get_correct_infl(true_infl, df_t, 't')\n",
    "print(len(fake_infl), len(true_infl))\n",
    "\n",
    "casind_f = get_cascades_of_users(cascades, fake_infl)\n",
    "casind_t = get_cascades_of_users(cascades, true_infl)\n",
    "print(len(casind_f), len(casind_t))\n",
    "\n",
    "cf = get_cassizes(get_cascade_subset(cascades, casind_f))\n",
    "ct = get_cassizes(get_cascade_subset(cascades, casind_t))\n",
    "# print(ct)\n",
    "# print(cf)\n",
    "\n",
    "print(min(ct), min(cf), min(sizes))"
   ]
  },
  {
   "cell_type": "code",
   "execution_count": 90,
   "metadata": {},
   "outputs": [
    {
     "data": {
      "image/png": "[encoded data removed]",
      "text/plain": [
       "<Figure size 288x288 with 1 Axes>"
      ]
     },
     "metadata": {
      "needs_background": "light"
     },
     "output_type": "display_data"
    }
   ],
   "source": [
    "plt.figure(figsize=(4,4))\n",
    "data = sizes\n",
    "binwidth=5\n",
    "bins=np.arange(min(data), max(data) + binwidth, binwidth)\n",
    "# print(min(data), max(data))\n",
    "# print(bins)\n",
    "\n",
    "plt.hist(sizes*1.0, bins=bins, normed=True, cumulative=True, label='All',\n",
    "         histtype='step', alpha=1.0, color='green', linewidth=2)\n",
    "\n",
    "plt.hist(cf*1.0, bins=bins, normed=True, cumulative=True, label='Inf(F)',\n",
    "         histtype='step', alpha=1.0, color='indianred', linewidth=2)\n",
    "\n",
    "plt.hist(ct*1.0, bins=bins, normed=True, cumulative=True, label='Inf(T)',\n",
    "         histtype='step', alpha=1.0, color='steelblue', linewidth=2)\n",
    "\n",
    "\n",
    "plt.xlim(-2000, 26000)\n",
    "# plt.ylim(0, 1.05)\n",
    "plt.xticks(np.arange(-1000, 25000, 10000), labels=['0k', '10k', '20k'])\n",
    "plt.legend(loc='lower right')\n",
    "plt.ylabel('Emp. CDF')\n",
    "plt.xlabel('Cascade Size')\n",
    "plt.tight_layout()\n",
    "plt.savefig('inf_virality.pdf')"
   ]
  },
  {
   "cell_type": "code",
   "execution_count": 92,
   "metadata": {},
   "outputs": [
    {
     "name": "stdout",
     "output_type": "stream",
     "text": [
      "111 60 51\n",
      "111 10 25974 1732.882882882883\n",
      "60 14 25974 1021.2166666666667\n",
      "51 10 22653 2570.1372549019607\n"
     ]
    }
   ],
   "source": [
    "cascades = np.array(read_cascades_file('../data/kwon/cascades.txt'))\n",
    "labels = np.loadtxt('../data/kwon/labels.txt', dtype=np.int32)\n",
    "f_label = np.where(labels == 1)[0]\n",
    "t_label = np.where(labels == 0)[0]\n",
    "cascades_fake = cascades[f_label]\n",
    "cascades_true = cascades[t_label]\n",
    "sizes = get_cassizes(cascades)\n",
    "sizes_fake = get_cassizes(cascades_fake)\n",
    "sizes_true = get_cassizes(cascades_true)\n",
    "print(len(sizes), len(sizes_fake), len(sizes_true))\n",
    "\n",
    "def minmax(s):\n",
    "    print(len(s), min(s), max(s), np.mean(s))\n",
    "\n",
    "minmax(sizes)\n",
    "minmax(sizes_fake)\n",
    "minmax(sizes_true)"
   ]
  },
  {
   "cell_type": "code",
   "execution_count": 96,
   "metadata": {},
   "outputs": [
    {
     "name": "stdout",
     "output_type": "stream",
     "text": [
      "41 78\n",
      "42 42\n",
      "{1, 5, 6, 10, 17, 18, 22, 26, 27, 38, 44, 45, 56, 60, 61, 63, 74, 75, 83, 86, 93, 102, 105}\n",
      "{1, 5, 102, 74, 43, 44, 45, 22, 23, 56, 86, 26}\n",
      "{3, 13, 21, 31, 33, 35, 39, 42, 50, 52, 53, 54, 55, 58, 70, 81, 99, 107, 110}\n",
      "{13, 14, 19, 21, 24, 28, 29, 31, 33, 35, 39, 42, 49, 50, 52, 53, 54, 55, 58, 64, 70, 76, 81, 82, 89, 94, 95, 98, 107, 110}\n",
      "23 25 25974 2426.8695652173915\n",
      "12 116 25974 3410.4166666666665\n",
      "19 61 22653 4949.526315789473\n",
      "30 63 22653 4187.866666666667\n"
     ]
    }
   ],
   "source": [
    "\n",
    "def get_filtered_cascade_subset(cascades, casind, label_ind):\n",
    "    subset_set = set(casind) & set(label_ind)\n",
    "    print(subset_set)\n",
    "    subset = np.array(cascades)[list(subset_set)]\n",
    "    return subset\n",
    "\n",
    "fake_infl = df_f['userid']\n",
    "true_infl = df_t['userid']\n",
    "fake_infl = get_correct_infl(fake_infl, df_f, 'f')\n",
    "true_infl = get_correct_infl(true_infl, df_t, 't')\n",
    "print(len(fake_infl), len(true_infl))\n",
    "\n",
    "casind_f = get_cascades_of_users(cascades, fake_infl)\n",
    "casind_t = get_cascades_of_users(cascades, true_infl)\n",
    "print(len(casind_f), len(casind_t))\n",
    "\n",
    "sizes_fake_inff = get_cassizes(get_filtered_cascade_subset(cascades, casind_f, f_label))\n",
    "sizes_fake_inft = get_cassizes(get_filtered_cascade_subset(cascades, casind_t, f_label))\n",
    "\n",
    "sizes_true_inff = get_cassizes(get_filtered_cascade_subset(cascades, casind_f, t_label))\n",
    "sizes_true_inft = get_cassizes(get_filtered_cascade_subset(cascades, casind_t, t_label))\n",
    "\n",
    "minmax(sizes_fake_inff)\n",
    "minmax(sizes_fake_inft)\n",
    "minmax(sizes_true_inff)\n",
    "minmax(sizes_true_inft)"
   ]
  },
  {
   "cell_type": "code",
   "execution_count": 98,
   "metadata": {},
   "outputs": [
    {
     "data": {
      "image/png": "[encoded data removed]",
      "text/plain": [
       "<Figure size 288x288 with 1 Axes>"
      ]
     },
     "metadata": {
      "needs_background": "light"
     },
     "output_type": "display_data"
    }
   ],
   "source": [
    "plt.figure(figsize=(4,4))\n",
    "data = sizes\n",
    "binwidth=5\n",
    "bins=np.arange(min(data), max(data) + binwidth, binwidth)\n",
    "# print(min(data), max(data))\n",
    "# print(bins)\n",
    "\n",
    "plt.hist(sizes_fake*1.0, bins=bins, normed=True, cumulative=True, label='All',\n",
    "         histtype='step', alpha=1.0, color='green', linewidth=2)\n",
    "\n",
    "plt.hist(sizes_fake_inff*1.0, bins=bins, normed=True, cumulative=True, label='Inf(F)',\n",
    "         histtype='step', alpha=1.0, color='indianred', linewidth=2)\n",
    "\n",
    "plt.hist(sizes_fake_inft*1.0, bins=bins, normed=True, cumulative=True, label='Inf(T)',\n",
    "         histtype='step', alpha=1.0, color='steelblue', linewidth=2)\n",
    "\n",
    "\n",
    "# plt.xlim(-2000, 26000)\n",
    "# plt.ylim(0, 1.05)\n",
    "plt.xticks(np.arange(-1000, 25000, 10000), labels=['0k', '10k', '20k'])\n",
    "plt.legend(loc='lower right')\n",
    "plt.ylabel('Emp. CDF')\n",
    "plt.xlabel('Fake Cascade Size')\n",
    "plt.tight_layout()\n",
    "plt.savefig('inf_virality_fake.pdf')"
   ]
  },
  {
   "cell_type": "code",
   "execution_count": 99,
   "metadata": {},
   "outputs": [
    {
     "data": {
      "image/png": "[encoded data removed]",
      "text/plain": [
       "<Figure size 288x288 with 1 Axes>"
      ]
     },
     "metadata": {
      "needs_background": "light"
     },
     "output_type": "display_data"
    }
   ],
   "source": [
    "plt.figure(figsize=(4,4))\n",
    "data = sizes\n",
    "binwidth=5\n",
    "bins=np.arange(min(data), max(data) + binwidth, binwidth)\n",
    "# print(min(data), max(data))\n",
    "# print(bins)\n",
    "\n",
    "plt.hist(sizes_true*1.0, bins=bins, normed=True, cumulative=True, label='All',\n",
    "         histtype='step', alpha=1.0, color='green', linewidth=2)\n",
    "\n",
    "plt.hist(sizes_true_inff*1.0, bins=bins, normed=True, cumulative=True, label='Inf(F)',\n",
    "         histtype='step', alpha=1.0, color='indianred', linewidth=2)\n",
    "\n",
    "plt.hist(sizes_true_inft*1.0, bins=bins, normed=True, cumulative=True, label='Inf(T)',\n",
    "         histtype='step', alpha=1.0, color='steelblue', linewidth=2)\n",
    "\n",
    "\n",
    "# plt.xlim(-2000, 26000)\n",
    "# plt.ylim(0, 1.05)\n",
    "plt.xticks(np.arange(-1000, 25000, 10000), labels=['0k', '10k', '20k'])\n",
    "plt.legend(loc='lower right')\n",
    "plt.ylabel('Emp. CDF')\n",
    "plt.xlabel('True Cascade Size')\n",
    "plt.tight_layout()\n",
    "plt.savefig('inf_virality_true.pdf')"
   ]
  },
  {
   "cell_type": "markdown",
   "metadata": {},
   "source": [
    "# time to first engagement"
   ]
  },
  {
   "cell_type": "code",
   "execution_count": 201,
   "metadata": {},
   "outputs": [
    {
     "name": "stdout",
     "output_type": "stream",
     "text": [
      "41 78\n",
      "42 42\n",
      "{1, 5, 6, 10, 17, 18, 22, 26, 27, 38, 44, 45, 56, 60, 61, 63, 74, 75, 83, 86, 93, 102, 105}\n",
      "{1, 5, 102, 74, 43, 44, 45, 22, 23, 56, 86, 26}\n",
      "{3, 13, 21, 31, 33, 35, 39, 42, 50, 52, 53, 54, 55, 58, 70, 81, 99, 107, 110}\n",
      "{13, 14, 19, 21, 24, 28, 29, 31, 33, 35, 39, 42, 49, 50, 52, 53, 54, 55, 58, 64, 70, 76, 81, 82, 89, 94, 95, 98, 107, 110}\n",
      "56 0 11935 1550.982142857143\n",
      "27 54 21889 2193.5925925925926\n",
      "42 1 13477 2616.6428571428573\n",
      "124 0 22350 3862.1129032258063\n"
     ]
    }
   ],
   "source": [
    "def get_time_to_first_eng(cascades, users):\n",
    "    times = []\n",
    "    uset = set(users)\n",
    "    for i, c in enumerate(cascades):\n",
    "        seenset = set()\n",
    "        for p, (u, t)  in enumerate(c):\n",
    "            if u in uset and u not in seenset:\n",
    "                times.append(p)\n",
    "                seenset.add(u)\n",
    "    times = np.array(times) \n",
    "    return times\n",
    "\n",
    "fake_infl = df_f['userid']\n",
    "true_infl = df_t['userid']\n",
    "fake_infl = get_correct_infl(fake_infl, df_f, 'f')\n",
    "true_infl = get_correct_infl(true_infl, df_t, 't')\n",
    "print(len(fake_infl), len(true_infl))\n",
    "\n",
    "casind_f = get_cascades_of_users(cascades, fake_infl)\n",
    "casind_t = get_cascades_of_users(cascades, true_infl)\n",
    "print(len(casind_f), len(casind_t))\n",
    "\n",
    "sizes_fake_inff = get_time_to_first_eng(get_filtered_cascade_subset(cascades, casind_f, f_label), fake_infl)\n",
    "sizes_fake_inft = get_time_to_first_eng(get_filtered_cascade_subset(cascades, casind_t, f_label), true_infl)\n",
    "\n",
    "sizes_true_inff = get_time_to_first_eng(get_filtered_cascade_subset(cascades, casind_f, t_label), fake_infl)\n",
    "sizes_true_inft = get_time_to_first_eng(get_filtered_cascade_subset(cascades, casind_t, t_label), true_infl)\n",
    "\n",
    "# sizes_true_inft = np.array(sizes_true_inft + sizes_fake_inft)\n",
    "# sizes_fake_inff = np.array(sizes_true_inff + sizes_fake_inff)\n",
    "\n",
    "minmax(sizes_fake_inff)\n",
    "minmax(sizes_fake_inft)\n",
    "minmax(sizes_true_inff)\n",
    "minmax(sizes_true_inft)"
   ]
  },
  {
   "cell_type": "code",
   "execution_count": 202,
   "metadata": {},
   "outputs": [
    {
     "name": "stdout",
     "output_type": "stream",
     "text": [
      "0 11935\n"
     ]
    },
    {
     "data": {
      "image/png": "[encoded data removed]",
      "text/plain": [
       "<Figure size 288x288 with 1 Axes>"
      ]
     },
     "metadata": {
      "needs_background": "light"
     },
     "output_type": "display_data"
    }
   ],
   "source": [
    "# print(sizes_fake_inff)\n",
    "\n",
    "plt.figure(figsize=(4,4))\n",
    "data = sizes_fake_inff\n",
    "binwidth=500\n",
    "bins = np.arange(min(data), max(data) + binwidth, binwidth)\n",
    "print(min(data), max(data))\n",
    "\n",
    "plt.hist(sizes_fake_inff*1.0, bins=bins, normed=True, cumulative=True, label='Inf(F)',\n",
    "         histtype='step', alpha=1.0, color='indianred', linewidth=2)\n",
    "\n",
    "# plt.hist(sizes_fake_inft*1.0, bins=bins, normed=True, cumulative=True, label='Fake (Inf(T))',\n",
    "#          histtype='step', alpha=1.0, color='pink', linewidth=2)\n",
    "\n",
    "\n",
    "\n",
    "# plt.hist(sizes_true_inff*1.0, bins=bins, normed=True, cumulative=True, label='True (Inf(F))',\n",
    "#          histtype='step', alpha=1.0, color='steelblue', linewidth=2)\n",
    "\n",
    "plt.hist(sizes_true_inft*1.0, bins=bins, normed=True, cumulative=True, label='Inf(T)',\n",
    "         histtype='step', alpha=1.0, color='steelblue', linewidth=2)\n",
    "\n",
    "\n",
    "# plt.xlim(-2000, 26000)\n",
    "# plt.ylim(0, 1.05)\n",
    "# plt.xticks(np.arange(-1000, 25000, 10000), labels=['0k', '10k', '20k'])\n",
    "plt.legend(loc='lower right')\n",
    "plt.ylabel('Emp. CDF')\n",
    "plt.xlabel('Distance')\n",
    "# plt.xlabel('Time Lag (s)')\n",
    "# plt.title('Fake')\n",
    "plt.tight_layout()\n",
    "plt.savefig('inf_distance.pdf')"
   ]
  },
  {
   "cell_type": "code",
   "execution_count": 203,
   "metadata": {},
   "outputs": [
    {
     "name": "stdout",
     "output_type": "stream",
     "text": [
      "41 78\n",
      "42 42\n",
      "{1, 5, 6, 10, 17, 18, 22, 26, 27, 38, 44, 45, 56, 60, 61, 63, 74, 75, 83, 86, 93, 102, 105}\n",
      "{1, 5, 102, 74, 43, 44, 45, 22, 23, 56, 86, 26}\n",
      "{3, 13, 21, 31, 33, 35, 39, 42, 50, 52, 53, 54, 55, 58, 70, 81, 99, 107, 110}\n",
      "{13, 14, 19, 21, 24, 28, 29, 31, 33, 35, 39, 42, 49, 50, 52, 53, 54, 55, 58, 64, 70, 76, 81, 82, 89, 94, 95, 98, 107, 110}\n",
      "56 0.0 66023954.0 22110353.5\n",
      "27 254866.0 62368237.0 24498038.0\n",
      "42 100.0 62912904.0 9101348.714285715\n",
      "124 0.0 69281723.0 11969959.959677419\n"
     ]
    }
   ],
   "source": [
    "def get_time_to_first_eng(cascades, users):\n",
    "    times = []\n",
    "    uset = set(users)\n",
    "    for i, c in enumerate(cascades):\n",
    "        seenset = set()\n",
    "        for p, (u, t)  in enumerate(c):\n",
    "            if u in uset and u not in seenset:\n",
    "                times.append(t)\n",
    "                seenset.add(u)\n",
    "    times = np.array(times) \n",
    "    return times\n",
    "\n",
    "fake_infl = df_f['userid']\n",
    "true_infl = df_t['userid']\n",
    "fake_infl = get_correct_infl(fake_infl, df_f, 'f')\n",
    "true_infl = get_correct_infl(true_infl, df_t, 't')\n",
    "print(len(fake_infl), len(true_infl))\n",
    "\n",
    "casind_f = get_cascades_of_users(cascades, fake_infl)\n",
    "casind_t = get_cascades_of_users(cascades, true_infl)\n",
    "print(len(casind_f), len(casind_t))\n",
    "\n",
    "sizes_fake_inff = get_time_to_first_eng(get_filtered_cascade_subset(cascades, casind_f, f_label), fake_infl)\n",
    "sizes_fake_inft = get_time_to_first_eng(get_filtered_cascade_subset(cascades, casind_t, f_label), true_infl)\n",
    "\n",
    "sizes_true_inff = get_time_to_first_eng(get_filtered_cascade_subset(cascades, casind_f, t_label), fake_infl)\n",
    "sizes_true_inft = get_time_to_first_eng(get_filtered_cascade_subset(cascades, casind_t, t_label), true_infl)\n",
    "\n",
    "minmax(sizes_fake_inff)\n",
    "minmax(sizes_fake_inft)\n",
    "minmax(sizes_true_inff)\n",
    "minmax(sizes_true_inft)"
   ]
  },
  {
   "cell_type": "code",
   "execution_count": 204,
   "metadata": {},
   "outputs": [
    {
     "name": "stdout",
     "output_type": "stream",
     "text": [
      "0.0 66023954.0\n"
     ]
    },
    {
     "data": {
      "image/png": "[encoded data removed]",
      "text/plain": [
       "<Figure size 288x288 with 1 Axes>"
      ]
     },
     "metadata": {
      "needs_background": "light"
     },
     "output_type": "display_data"
    }
   ],
   "source": [
    "# print(sizes_fake_inff)\n",
    "\n",
    "plt.figure(figsize=(4,4))\n",
    "data = sizes_fake_inff\n",
    "binwidth=500\n",
    "bins = np.arange(min(data), max(data) + binwidth, binwidth)\n",
    "print(min(data), max(data))\n",
    "\n",
    "plt.hist(sizes_fake_inff*1.0, bins=bins, normed=True, cumulative=True, label='Inf(F)',\n",
    "         histtype='step', alpha=1.0, color='indianred', linewidth=2)\n",
    "\n",
    "# plt.hist(sizes_fake_inft*1.0, bins=bins, normed=True, cumulative=True, label='Fake (Inf(T))',\n",
    "#          histtype='step', alpha=1.0, color='pink', linewidth=2)\n",
    "\n",
    "\n",
    "\n",
    "# plt.hist(sizes_true_inff*1.0, bins=bins, normed=True, cumulative=True, label='True (Inf(F))',\n",
    "#          histtype='step', alpha=1.0, color='steelblue', linewidth=2)\n",
    "\n",
    "plt.hist(sizes_true_inft*1.0, bins=bins, normed=True, cumulative=True, label='Inf(T)',\n",
    "         histtype='step', alpha=1.0, color='blue', linewidth=2)\n",
    "\n",
    "\n",
    "# plt.xlim(-2000, 26000)\n",
    "# plt.ylim(0, 1.05)\n",
    "# plt.xticks(np.arange(-1000, 25000, 10000), labels=['0k', '10k', '20k'])\n",
    "plt.legend(loc='lower right')\n",
    "plt.ylabel('Emp. CDF')\n",
    "plt.xlabel('Engagement Time (s)')\n",
    "# plt.title('Fake')\n",
    "plt.tight_layout()\n",
    "# plt.savefig('inf_virality_fake.pdf')"
   ]
  },
  {
   "cell_type": "markdown",
   "metadata": {},
   "source": [
    "# num of repeated engagements"
   ]
  },
  {
   "cell_type": "code",
   "execution_count": 215,
   "metadata": {},
   "outputs": [
    {
     "name": "stdout",
     "output_type": "stream",
     "text": [
      "41 78\n",
      "42 42\n",
      "{1, 5, 6, 10, 17, 18, 22, 26, 27, 38, 44, 45, 56, 60, 61, 63, 74, 75, 83, 86, 93, 102, 105}\n",
      "{1, 5, 102, 74, 43, 44, 45, 22, 23, 56, 86, 26}\n",
      "{3, 13, 21, 31, 33, 35, 39, 42, 50, 52, 53, 54, 55, 58, 70, 81, 99, 107, 110}\n",
      "{13, 14, 19, 21, 24, 28, 29, 31, 33, 35, 39, 42, 49, 50, 52, 53, 54, 55, 58, 64, 70, 76, 81, 82, 89, 94, 95, 98, 107, 110}\n",
      "56 1690.0 62368652.0 9090046.215757659\n",
      "27 342755.0 62368237.0 21245395.435185187\n",
      "42 1730.0 62912904.0 6351636.041596638\n",
      "124 4767.490566037736 69281723.0 6291546.923346035\n"
     ]
    }
   ],
   "source": [
    "from collections import defaultdict\n",
    "\n",
    "def get_num_repeat_engs(cascades, users):\n",
    "    times = []\n",
    "    uset = set(users)\n",
    "    for i, c in enumerate(cascades):\n",
    "        seen = defaultdict(int)\n",
    "        seen_prevt = defaultdict(float)\n",
    "        seen_rollingt = defaultdict(float)\n",
    "        for p, (u, t)  in enumerate(c):\n",
    "            if u in uset:\n",
    "                seen[u] += 1\n",
    "                seen_rollingt[u] += t - seen_prevt[u]\n",
    "                seen_prevt[u] = t\n",
    "        a = list(seen_rollingt.values())\n",
    "        b = list(seen.values())\n",
    "        times += list(np.array(a)/np.array(b))\n",
    "    times = np.array(times) \n",
    "    return times\n",
    "\n",
    "fake_infl = df_f['userid']\n",
    "true_infl = df_t['userid']\n",
    "fake_infl = get_correct_infl(fake_infl, df_f, 'f')\n",
    "true_infl = get_correct_infl(true_infl, df_t, 't')\n",
    "print(len(fake_infl), len(true_infl))\n",
    "\n",
    "casind_f = get_cascades_of_users(cascades, fake_infl)\n",
    "casind_t = get_cascades_of_users(cascades, true_infl)\n",
    "print(len(casind_f), len(casind_t))\n",
    "\n",
    "sizes_fake_inff = get_num_repeat_engs(get_filtered_cascade_subset(cascades, casind_f, f_label), fake_infl)\n",
    "sizes_fake_inft = get_num_repeat_engs(get_filtered_cascade_subset(cascades, casind_t, f_label), true_infl)\n",
    "\n",
    "sizes_true_inff = get_num_repeat_engs(get_filtered_cascade_subset(cascades, casind_f, t_label), fake_infl)\n",
    "sizes_true_inft = get_num_repeat_engs(get_filtered_cascade_subset(cascades, casind_t, t_label), true_infl)\n",
    "\n",
    "# sizes_true_inft = np.array(sizes_true_inft + sizes_fake_inft)\n",
    "# sizes_fake_inff = np.array(sizes_true_inff + sizes_fake_inff)\n",
    "\n",
    "minmax(sizes_fake_inff)\n",
    "minmax(sizes_fake_inft)\n",
    "minmax(sizes_true_inff)\n",
    "minmax(sizes_true_inft)"
   ]
  },
  {
   "cell_type": "code",
   "execution_count": 218,
   "metadata": {},
   "outputs": [
    {
     "name": "stdout",
     "output_type": "stream",
     "text": [
      "1690.0 62368652.0\n"
     ]
    },
    {
     "data": {
      "image/png": "[encoded data removed]",
      "text/plain": [
       "<Figure size 288x288 with 1 Axes>"
      ]
     },
     "metadata": {
      "needs_background": "light"
     },
     "output_type": "display_data"
    }
   ],
   "source": [
    "# print(sizes_fake_inff)\n",
    "\n",
    "plt.figure(figsize=(4,4))\n",
    "data = sizes_fake_inff\n",
    "binwidth=5000\n",
    "bins = np.arange(min(data), max(data) + binwidth, binwidth)\n",
    "print(min(data), max(data))\n",
    "\n",
    "plt.hist(sizes_fake_inff*1.0, bins=bins, normed=True, cumulative=True, label='Inf(F)',\n",
    "         histtype='step', alpha=1.0, color='indianred', linewidth=2)\n",
    "\n",
    "# plt.hist(sizes_fake_inft*1.0, bins=bins, normed=True, cumulative=True, label='Fake (Inf(T))',\n",
    "#          histtype='step', alpha=1.0, color='pink', linewidth=2)\n",
    "\n",
    "\n",
    "\n",
    "# plt.hist(sizes_true_inff*1.0, bins=bins, normed=True, cumulative=True, label='True (Inf(F))',\n",
    "#          histtype='step', alpha=1.0, color='steelblue', linewidth=2)\n",
    "\n",
    "plt.hist(sizes_true_inft*1.0, bins=bins, normed=True, cumulative=True, label='Inf(T)',\n",
    "         histtype='step', alpha=1.0, color='blue', linewidth=2)\n",
    "\n",
    "\n",
    "# plt.xlim(-2000, 26000)\n",
    "# plt.ylim(0, 1.05)\n",
    "# plt.xticks(np.arange(-1000, 25000, 10000), labels=['0k', '10k', '20k'])\n",
    "plt.legend(loc='lower right')\n",
    "plt.ylabel('Emp. CDF')\n",
    "plt.xlabel('Avg time between reengagement')\n",
    "# plt.title('Fake')\n",
    "plt.tight_layout()\n",
    "# plt.savefig('inf_virality_fake.pdf')"
   ]
  },
  {
   "cell_type": "markdown",
   "metadata": {},
   "source": [
    "# false positives and negatives"
   ]
  },
  {
   "cell_type": "code",
   "execution_count": 75,
   "metadata": {},
   "outputs": [],
   "source": [
    "\n",
    "def get_incorrect(df, cond):\n",
    "    ind = []\n",
    "    for i, row in df.iterrows():\n",
    "        ut = row['u_t']\n",
    "        uf = row['u_f']\n",
    "        if cond == 'f' and uf == 0:\n",
    "            ind.append(i)\n",
    "        if cond == 't' and ut == 0:\n",
    "            ind.append(i)\n",
    "    # print(ind)\n",
    "    return ind\n",
    "        \n",
    "\n",
    "def get_acc_infl(df_f, df_t):\n",
    "    acc = []\n",
    "    p_t = []\n",
    "    p_f = []\n",
    "\n",
    "    for i in np.arange(0, 101, 10):\n",
    "        m_f = 1.0 * len(get_incorrect(df_f[:i], 'f'))\n",
    "        m_t = 1.0 * len(get_incorrect(df_t[:i], 't'))\n",
    "        p_f.append(1 - m_f/i)\n",
    "        p_t.append(1 - m_t/i)\n",
    "        acc.append(1 - (m_f + m_t)/(2*i))\n",
    "    return acc, p_t, p_f\n",
    "    "
   ]
  },
  {
   "cell_type": "code",
   "execution_count": 572,
   "metadata": {},
   "outputs": [
    {
     "name": "stdout",
     "output_type": "stream",
     "text": [
      "[]\n",
      "[]\n",
      "[0, 1, 2, 5, 6, 9]\n",
      "[7]\n",
      "[0, 1, 2, 5, 6, 9, 11, 12, 13, 14, 15, 19]\n",
      "[7, 13, 16, 19]\n",
      "[0, 1, 2, 5, 6, 9, 11, 12, 13, 14, 15, 19, 20, 21, 24, 25, 27, 28, 29]\n",
      "[7, 13, 16, 19, 21, 22, 26, 28]\n",
      "[0, 1, 2, 5, 6, 9, 11, 12, 13, 14, 15, 19, 20, 21, 24, 25, 27, 28, 29, 30, 31, 32, 34, 36, 39]\n",
      "[7, 13, 16, 19, 21, 22, 26, 28]\n",
      "[0, 1, 2, 5, 6, 9, 11, 12, 13, 14, 15, 19, 20, 21, 24, 25, 27, 28, 29, 30, 31, 32, 34, 36, 39, 40, 42, 43, 45, 48, 49]\n",
      "[7, 13, 16, 19, 21, 22, 26, 28, 46, 48]\n",
      "[0, 1, 2, 5, 6, 9, 11, 12, 13, 14, 15, 19, 20, 21, 24, 25, 27, 28, 29, 30, 31, 32, 34, 36, 39, 40, 42, 43, 45, 48, 49, 51, 52, 56, 58, 59]\n",
      "[7, 13, 16, 19, 21, 22, 26, 28, 46, 48, 57, 59]\n",
      "[0, 1, 2, 5, 6, 9, 11, 12, 13, 14, 15, 19, 20, 21, 24, 25, 27, 28, 29, 30, 31, 32, 34, 36, 39, 40, 42, 43, 45, 48, 49, 51, 52, 56, 58, 59, 60, 62, 66, 67, 68]\n",
      "[7, 13, 16, 19, 21, 22, 26, 28, 46, 48, 57, 59, 67, 68]\n",
      "[0, 1, 2, 5, 6, 9, 11, 12, 13, 14, 15, 19, 20, 21, 24, 25, 27, 28, 29, 30, 31, 32, 34, 36, 39, 40, 42, 43, 45, 48, 49, 51, 52, 56, 58, 59, 60, 62, 66, 67, 68, 71, 72, 73, 74, 78]\n",
      "[7, 13, 16, 19, 21, 22, 26, 28, 46, 48, 57, 59, 67, 68, 70, 72]\n",
      "[0, 1, 2, 5, 6, 9, 11, 12, 13, 14, 15, 19, 20, 21, 24, 25, 27, 28, 29, 30, 31, 32, 34, 36, 39, 40, 42, 43, 45, 48, 49, 51, 52, 56, 58, 59, 60, 62, 66, 67, 68, 71, 72, 73, 74, 78, 80, 83, 86, 88, 89]\n",
      "[7, 13, 16, 19, 21, 22, 26, 28, 46, 48, 57, 59, 67, 68, 70, 72, 88, 89]\n",
      "[0, 1, 2, 5, 6, 9, 11, 12, 13, 14, 15, 19, 20, 21, 24, 25, 27, 28, 29, 30, 31, 32, 34, 36, 39, 40, 42, 43, 45, 48, 49, 51, 52, 56, 58, 59, 60, 62, 66, 67, 68, 71, 72, 73, 74, 78, 80, 83, 86, 88, 89, 90, 92, 93, 94, 95, 96, 97, 99]\n",
      "[7, 13, 16, 19, 21, 22, 26, 28, 46, 48, 57, 59, 67, 68, 70, 72, 88, 89, 91, 93, 97, 99]\n"
     ]
    },
    {
     "data": {
      "image/png": "[encoded data removed]",
      "text/plain": [
       "<Figure size 288x288 with 1 Axes>"
      ]
     },
     "metadata": {
      "needs_background": "light"
     },
     "output_type": "display_data"
    }
   ],
   "source": [
    "acc, p_t, p_f = get_acc_infl(df_f, df_t)\n",
    "plt.figure(figsize=(4,4))\n",
    "plt.plot(np.arange(0, 101, 10), p_t, color='black', label='Inf(T)', linewidth=2)\n",
    "plt.plot(np.arange(0, 101, 10), p_f, color='indianred', label='Inf(F)', linewidth=2)\n",
    "plt.plot(np.arange(0, 101, 10), acc, color='green', label='Accuracy', linewidth=2)\n",
    "plt.legend(loc='lower right')\n",
    "plt.ylim(0, 1)\n",
    "plt.title('P@K')\n",
    "plt.tight_layout()\n",
    "plt.savefig('precisionK_kwon.pdf')"
   ]
  },
  {
   "cell_type": "code",
   "execution_count": 573,
   "metadata": {},
   "outputs": [
    {
     "name": "stdout",
     "output_type": "stream",
     "text": [
      "[]\n",
      "[]\n",
      "[1, 6]\n",
      "[]\n",
      "[1, 6, 12]\n",
      "[18]\n",
      "[1, 6, 12]\n",
      "[18]\n",
      "[1, 6, 12]\n",
      "[18]\n",
      "[1, 6, 12]\n",
      "[18]\n",
      "[1, 6, 12]\n",
      "[18]\n",
      "[1, 6, 12, 63]\n",
      "[18]\n",
      "[1, 6, 12, 63, 74]\n",
      "[18, 73]\n",
      "[1, 6, 12, 63, 74]\n",
      "[18, 73]\n",
      "[1, 6, 12, 63, 74]\n",
      "[18, 73, 97]\n"
     ]
    },
    {
     "data": {
      "image/png": "[encoded data removed]",
      "text/plain": [
       "<Figure size 288x288 with 1 Axes>"
      ]
     },
     "metadata": {
      "needs_background": "light"
     },
     "output_type": "display_data"
    }
   ],
   "source": [
    "acc, p_t, p_f = get_acc_infl(tma_df_f, tma_df_t)\n",
    "plt.figure(figsize=(4, 4))\n",
    "plt.plot(np.arange(0, 101, 10), p_t, color='black', label='Inf(T)', linewidth=2)\n",
    "plt.plot(np.arange(0, 101, 10), p_f, color='indianred', label='Inf(F)', linewidth=2)\n",
    "plt.plot(np.arange(0, 101, 10), acc, color='green', label='Accuracy', linewidth=2)\n",
    "plt.legend(loc='lower right')\n",
    "plt.ylim(0, 1)\n",
    "plt.title('P@K')\n",
    "plt.tight_layout()\n",
    "plt.savefig('precisionK_tma.pdf')"
   ]
  },
  {
   "cell_type": "markdown",
   "metadata": {},
   "source": [
    "# Likelihood vs Cascade Size Plot"
   ]
  },
  {
   "cell_type": "code",
   "execution_count": 273,
   "metadata": {},
   "outputs": [
    {
     "data": {
      "image/png": "[encoded data removed]",
      "text/plain": [
       "<Figure size 432x288 with 1 Axes>"
      ]
     },
     "metadata": {
      "needs_background": "light"
     },
     "output_type": "display_data"
    }
   ],
   "source": [
    "cascades = np.array(read_cascades_file('../data/kwon/cascades.txt'))\n",
    "labels = np.loadtxt('../data/kwon/labels.txt')\n",
    "ll = np.loadtxt('../output/all_kwon/kwon/resp.txt')\n",
    "casnames = np.loadtxt('../data/kwon/cascade_names.txt', dtype=np.str)\n",
    "ll_fake = ll[:, 0]\n",
    "filtered = np.array(ll[:, 3], dtype=np.int32)\n",
    "subset = cascades[filtered]\n",
    "target = ll[:, 2]\n",
    "subset_sizes = np.array([len(s) for s in subset])\n",
    "fake_ind = np.where(target == 1)[0]\n",
    "true_ind = np.where(target == 0)[0]\n",
    "\n",
    "plt.scatter(ll_fake[fake_ind], subset_sizes[fake_ind], s=80, facecolors='none', edgecolors='red', label='Fake')\n",
    "plt.scatter(ll_fake[true_ind], subset_sizes[true_ind], s=80, facecolors='none', edgecolors='steelblue', label='True')\n",
    "plt.legend()\n",
    "plt.tight_layout()\n",
    "plt.savefig('ll_scatter_kwon.pdf')"
   ]
  },
  {
   "cell_type": "code",
   "execution_count": 271,
   "metadata": {},
   "outputs": [
    {
     "name": "stdout",
     "output_type": "stream",
     "text": [
      "[ 0  1 68 37 15 16 79 51 85 22 23 61 62]\n",
      "['R_EricssonFreeLaptop.txt' 'R_ZunePhone.txt' 'R_obamaNationalDay.txt'\n",
      " 'R_Earwig.txt' 'R_CookCellphone.txt' 'R_ReversePIN.txt'\n",
      " 'R_CellphoneGasExplosion.txt' 'R_DietCokeBacon.txt'\n",
      " 'N_BarnesNobleObamaMonkey.txt' 'R_IphoneOLED.txt' 'R_ToothFairy.txt'\n",
      " 'R_GiantCatfish.txt' 'N_Airliner.txt']\n"
     ]
    }
   ],
   "source": [
    "g = np.where(ll_fake > 0.9)[0]\n",
    "l = np.where(ll_fake < 1.0)[0]\n",
    "c = np.array(list(set(g) & set(l)))\n",
    "print(c)\n",
    "print(casnames[c])"
   ]
  },
  {
   "cell_type": "code",
   "execution_count": 274,
   "metadata": {},
   "outputs": [
    {
     "data": {
      "image/png": "[encoded data removed]",
      "text/plain": [
       "<Figure size 432x288 with 1 Axes>"
      ]
     },
     "metadata": {
      "needs_background": "light"
     },
     "output_type": "display_data"
    }
   ],
   "source": [
    "cascades = np.array(read_cascades_file('../data/tma/cascades.txt'))\n",
    "labels = np.loadtxt('../data/tma/labels.txt')\n",
    "ll = np.loadtxt('../output/all_tma/tma_E/resp.txt')\n",
    "ll_fake = ll[:, 0]\n",
    "filtered = np.array(ll[:, 3], dtype=np.int32)\n",
    "subset = cascades[filtered]\n",
    "target = ll[:, 2]\n",
    "subset_sizes = np.array([len(s) for s in subset])\n",
    "fake_ind = np.where(target == 1)[0]\n",
    "true_ind = np.where(target == 0)[0]\n",
    "\n",
    "plt.scatter(ll_fake[fake_ind], subset_sizes[fake_ind], s=80, facecolors='none', edgecolors='red', label='Fake')\n",
    "plt.scatter(ll_fake[true_ind], subset_sizes[true_ind], s=80, facecolors='none', edgecolors='steelblue', label='True')\n",
    "plt.legend()\n",
    "plt.tight_layout()\n",
    "plt.savefig('ll_scatter_tma.pdf')"
   ]
  },
  {
   "cell_type": "code",
   "execution_count": null,
   "metadata": {},
   "outputs": [],
   "source": []
  }
 ],
 "metadata": {
  "kernelspec": {
   "display_name": "Python 3",
   "language": "python",
   "name": "python3"
  },
  "language_info": {
   "codemirror_mode": {
    "name": "ipython",
    "version": 3
   },
   "file_extension": ".py",
   "mimetype": "text/x-python",
   "name": "python",
   "nbconvert_exporter": "python",
   "pygments_lexer": "ipython3",
   "version": "3.8.3"
  }
 },
 "nbformat": 4,
 "nbformat_minor": 4
}
