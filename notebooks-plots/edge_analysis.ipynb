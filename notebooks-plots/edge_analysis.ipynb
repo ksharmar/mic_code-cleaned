{
 "cells": [
  {
   "cell_type": "code",
   "execution_count": 1,
   "metadata": {},
   "outputs": [],
   "source": [
    "import sys\n",
    "sys.path.append('../')\n",
    "%load_ext autoreload\n",
    "%autoreload 2\n",
    "import pandas as pd\n",
    "import pickle as pkl\n",
    "import warnings\n",
    "warnings.simplefilter(action='ignore')\n",
    "import numpy as np\n",
    "from notebook_utils import *\n",
    "from parameter_estimation import load_data_util\n",
    "import numpy as np\n",
    "import pandas as pd\n",
    "import snap\n",
    "import operator\n",
    "from sklearn import metrics\n",
    "import networkx as nx\n",
    "import scikitplot as skplt\n",
    "import matplotlib.pyplot as plt\n",
    "%matplotlib inline\n",
    "plt.rc('font', family='serif', size='13') # controls default text sizes\n",
    "plt.rc('xtick', labelsize='12')\n",
    "plt.rc('ytick', labelsize='12')\n",
    "plt.rc('legend', fontsize='13') # legend fontsize\n",
    "plt.rc('axes', labelsize='12', titlesize='13')  # fontsize of the x and y labels # fontsize of the axes title\n",
    "# plt.rc('figure', titlesize=BIGGER_SIZE)  # fontsize of the figure title\n"
   ]
  },
  {
   "cell_type": "code",
   "execution_count": 2,
   "metadata": {},
   "outputs": [
    {
     "name": "stdout",
     "output_type": "stream",
     "text": [
      "num cascades 111 111\n",
      "t/f 51 60\n",
      "u_t, u_f, tot 76041 47869 123910\n",
      "users large eng > 5 2457\n",
      "users large eng > 10 871\n",
      "num users: 2930\n",
      "num edges 377\n"
     ]
    },
    {
     "data": {
      "text/html": [
       "<div>\n",
       "<style scoped>\n",
       "    .dataframe tbody tr th:only-of-type {\n",
       "        vertical-align: middle;\n",
       "    }\n",
       "\n",
       "    .dataframe tbody tr th {\n",
       "        vertical-align: top;\n",
       "    }\n",
       "\n",
       "    .dataframe thead th {\n",
       "        text-align: right;\n",
       "    }\n",
       "</style>\n",
       "<table border=\"1\" class=\"dataframe\">\n",
       "  <thead>\n",
       "    <tr style=\"text-align: right;\">\n",
       "      <th></th>\n",
       "      <th>u</th>\n",
       "      <th>v</th>\n",
       "      <th>act_0</th>\n",
       "      <th>act_1</th>\n",
       "    </tr>\n",
       "  </thead>\n",
       "  <tbody>\n",
       "    <tr>\n",
       "      <th>0</th>\n",
       "      <td>2125</td>\n",
       "      <td>1706</td>\n",
       "      <td>0.000365</td>\n",
       "      <td>9.979777e-01</td>\n",
       "    </tr>\n",
       "    <tr>\n",
       "      <th>1</th>\n",
       "      <td>2125</td>\n",
       "      <td>1719</td>\n",
       "      <td>1.000000</td>\n",
       "      <td>1.000000e+00</td>\n",
       "    </tr>\n",
       "    <tr>\n",
       "      <th>2</th>\n",
       "      <td>1230</td>\n",
       "      <td>1719</td>\n",
       "      <td>0.376622</td>\n",
       "      <td>1.081988e-03</td>\n",
       "    </tr>\n",
       "    <tr>\n",
       "      <th>3</th>\n",
       "      <td>541</td>\n",
       "      <td>1008</td>\n",
       "      <td>1.000000</td>\n",
       "      <td>8.850981e-14</td>\n",
       "    </tr>\n",
       "    <tr>\n",
       "      <th>4</th>\n",
       "      <td>2521</td>\n",
       "      <td>94</td>\n",
       "      <td>0.333355</td>\n",
       "      <td>3.333894e-01</td>\n",
       "    </tr>\n",
       "  </tbody>\n",
       "</table>\n",
       "</div>"
      ],
      "text/plain": [
       "      u     v     act_0         act_1\n",
       "0  2125  1706  0.000365  9.979777e-01\n",
       "1  2125  1719  1.000000  1.000000e+00\n",
       "2  1230  1719  0.376622  1.081988e-03\n",
       "3   541  1008  1.000000  8.850981e-14\n",
       "4  2521    94  0.333355  3.333894e-01"
      ]
     },
     "execution_count": 2,
     "metadata": {},
     "output_type": "execute_result"
    }
   ],
   "source": [
    "# infl users (with user ids)\n",
    "fake_component = 0\n",
    "\n",
    "# engagement counts (read cascades)\n",
    "data_dir = '../data/kwon/'\n",
    "cascades_file = data_dir + 'cascades.txt'\n",
    "labels_file = data_dir + 'labels.txt'\n",
    "train_cascades = read_cascades_file(cascades_file)\n",
    "train_labels = np.loadtxt(labels_file)\n",
    "print('num cascades', len(train_cascades), len(train_labels))\n",
    "u_t, u_f, sorted_u = eng_count(train_cascades, train_labels)\n",
    "top_users = sorted_u[:, 0]\n",
    "\n",
    "# user index\n",
    "# idx2u_path = 'models/kwon/last_learned.graphuserdf'\n",
    "idx2u_path = '../output/all_kwon/kwon/idx2u.txt'\n",
    "idx2u = np.loadtxt(idx2u_path)  # np.array(pd.read_csv(idx2u_path)['all_users'])\n",
    "u2idx = dict(zip(idx2u, np.arange(len(idx2u))))\n",
    "print('num users:', len(idx2u))\n",
    "# edges learned\n",
    "# graph_path = models/kwon/last_learned.graphdf'\n",
    "graph_path = '../output/all_kwon/kwon/learned_graph.tsv'\n",
    "edf = pd.read_csv(graph_path, header=0, sep='\\t')  #sep=',')\n",
    "print('num edges', len(edf))\n",
    "edf.head()"
   ]
  },
  {
   "cell_type": "code",
   "execution_count": 3,
   "metadata": {},
   "outputs": [],
   "source": [
    "def create_graph_from_df(df):\n",
    "    \"\"\"\n",
    "    df: u, v, act0, act1\n",
    "    return snap graph PNEANet\n",
    "    \"\"\"\n",
    "    print(\"creating graph\")\n",
    "    graph = snap.PNEANet.New()\n",
    "    uidx = {}\n",
    "    u = list(df['u'])\n",
    "    v = list(df['v'])\n",
    "    users = u + v\n",
    "    i = 0\n",
    "    for user in users:\n",
    "        if user not in uidx:\n",
    "            uidx[user] = i\n",
    "            i += 1\n",
    "    for i in range(len(uidx)):\n",
    "        graph.AddNode(i)\n",
    "    for index, row in df.iterrows():\n",
    "        u, v, act0, act1 = row['u'], row['v'], row['act_0'], row['act_1']\n",
    "        graph.AddEdge(uidx[u], uidx[v])\n",
    "        EId = graph.GetEId(uidx[u], uidx[v])\n",
    "        graph.AddFltAttrDatE(EId, act0, 'act_prob_0')\n",
    "        graph.AddFltAttrDatE(EId, act1, 'act_prob_1')\n",
    "    print(\"returing graph\")\n",
    "    return graph, uidx"
   ]
  },
  {
   "cell_type": "code",
   "execution_count": 8,
   "metadata": {},
   "outputs": [
    {
     "name": "stdout",
     "output_type": "stream",
     "text": [
      "creating graph\n",
      "returing graph\n"
     ]
    }
   ],
   "source": [
    "def filter_edges_by_users(edf, top_users):\n",
    "    x = edf[(edf['u'].isin(top_users)) & (edf['v'].isin(top_users))]\n",
    "    users_retained = set(x['u'])  #(set(x['v']))\n",
    "    users_retained.update(x['v'])\n",
    "    return x, users_retained\n",
    "\n",
    "sdf, _ = filter_edges_by_users(edf, top_users)\n",
    "\n",
    "base_graph, _ = create_graph_from_df(edf)  # create snap graph with different edge attr\n"
   ]
  },
  {
   "cell_type": "code",
   "execution_count": 9,
   "metadata": {},
   "outputs": [],
   "source": [
    "def get_split_graphs(base_graph, comp):\n",
    "    attr_graph = snap.PNEANet.New()\n",
    "    num_nodes = base_graph.GetNodes()\n",
    "    for i in range(num_nodes):\n",
    "        attr_graph.AddNode(i)\n",
    "    for EI in base_graph.Edges():\n",
    "        attr_value = base_graph.GetFltAttrDatE(EI, 'act_prob_{}'.format(comp))\n",
    "        if attr_value > 0:\n",
    "            attr_graph.AddEdge(EI.GetSrcNId(), EI.GetDstNId())\n",
    "            attr_graph.AddFltAttrDatE(EI, attr_value, 'act_prob_{}'.format(comp))\n",
    "    return attr_graph\n",
    "\n",
    "true_graph, fake_graph = get_split_graphs(base_graph, 1), get_split_graphs(base_graph, 0) "
   ]
  },
  {
   "cell_type": "code",
   "execution_count": 13,
   "metadata": {},
   "outputs": [
    {
     "name": "stdout",
     "output_type": "stream",
     "text": [
      "-----Graph = base-------\n",
      "Edges 377\n",
      "Diameter 1.9483245018305626\n",
      "Clustering coefficient: 0.072819\n",
      "Number of triads: 35\n",
      "Modularity: 0.25\n",
      "\n",
      "Size: 1 - Number of Components: 529\n",
      "Size: 2 - Number of Components: 1\n",
      "\n",
      "\n",
      "-----Graph = true-------\n",
      "Edges 310\n",
      "Diameter 1.7274794215447393\n",
      "Clustering coefficient: 0.053923\n",
      "Number of triads: 28\n",
      "Modularity: 0.25\n",
      "\n",
      "Size: 1 - Number of Components: 529\n",
      "Size: 2 - Number of Components: 1\n",
      "\n",
      "\n",
      "-----Graph = fake-------\n",
      "Edges 301\n",
      "Diameter 1.6518582236857058\n",
      "Clustering coefficient: 0.074388\n",
      "Number of triads: 34\n",
      "Modularity: 0.25\n",
      "\n",
      "Size: 1 - Number of Components: 529\n",
      "Size: 2 - Number of Components: 1\n",
      "\n",
      "\n"
     ]
    }
   ],
   "source": [
    "\n",
    "def print_graph_props(G):\n",
    "    print('Edges', G.GetEdges())\n",
    "    print('Diameter', snap.GetAnfEffDiam(G))  # longest shortest path\n",
    "    # print('Is weakly connected', snap.IsConnected(G))  # longest shortest path\n",
    "    GraphClustCoeff = snap.GetClustCf(G, -1)\n",
    "    print(\"Clustering coefficient: %f\" % GraphClustCoeff)\n",
    "    NumTriads = snap.GetTriads(G, -1)\n",
    "    print('Number of triads: %d' % NumTriads)\n",
    "    Nodes = snap.TIntV()\n",
    "    for nodeId in range(G.GetNodes()):\n",
    "        Nodes.Add(nodeId)\n",
    "    print('Modularity:', snap.GetModularity(G, Nodes))\n",
    "\n",
    "    print()\n",
    "    ComponentDist = snap.TIntPrV()\n",
    "    snap.GetSccSzCnt(G, ComponentDist)\n",
    "    for comp in ComponentDist:\n",
    "        print(\"Size: %d - Number of Components: %d\" % (comp.GetVal1(), comp.GetVal2()))\n",
    "#     ComponentDist = snap.TIntPrV()\n",
    "#     snap.GetWccSzCnt(G, ComponentDist)\n",
    "#     for comp in ComponentDist:\n",
    "#         print(\"Size: %d - Number of Components: %d\" % (comp.GetVal1(), comp.GetVal2()))\n",
    "    print()\n",
    "#     CmtyV = snap.TCnComV()\n",
    "#     modularity = snap.CommunityGirvanNewman(snap.ConvertGraph(snap.PUNGraph, G), CmtyV)\n",
    "#     for Cmty in CmtyV:\n",
    "#         print(\"Community: \")\n",
    "#         for NI in Cmty:\n",
    "#             print(NI)\n",
    "#     print(\"The modularity of the network is %f\" % modularity)\n",
    "    print()\n",
    "    \n",
    "# snap.PrintInfo(base_graph, 'Graph', 'Graph.txt')\n",
    "for G, name in zip([base_graph, true_graph, fake_graph], ['base', 'true', 'fake']):\n",
    "    if name == 'base_graph': continue\n",
    "    else:\n",
    "        print(\"-----Graph = {}-------\".format(name))\n",
    "        print_graph_props(G)"
   ]
  },
  {
   "cell_type": "code",
   "execution_count": 14,
   "metadata": {},
   "outputs": [],
   "source": [
    "snap.DrawGViz(true_graph, snap.gvlDot, \"true_graph.png\", \"graph t\")\n",
    "snap.DrawGViz(fake_graph, snap.gvlDot, \"fake_graph.png\", \"graph f\")"
   ]
  },
  {
   "cell_type": "code",
   "execution_count": null,
   "metadata": {},
   "outputs": [],
   "source": []
  },
  {
   "cell_type": "markdown",
   "metadata": {},
   "source": [
    "# Heatmaps of edge weights for some users"
   ]
  },
  {
   "cell_type": "code",
   "execution_count": 57,
   "metadata": {},
   "outputs": [
    {
     "name": "stdout",
     "output_type": "stream",
     "text": [
      "\n"
     ]
    },
    {
     "data": {
      "image/png": "[encoded data removed]",
      "text/plain": [
       "<Figure size 288x288 with 2 Axes>"
      ]
     },
     "metadata": {
      "needs_background": "light"
     },
     "output_type": "display_data"
    },
    {
     "data": {
      "image/png": "[encoded data removed]",
      "text/plain": [
       "<Figure size 288x288 with 2 Axes>"
      ]
     },
     "metadata": {
      "needs_background": "light"
     },
     "output_type": "display_data"
    }
   ],
   "source": [
    "\n",
    "def filter_edges_by_users(edf, top_users):\n",
    "    x = edf[(edf['u'].isin(top_users)) & (edf['v'].isin(top_users))]\n",
    "    users_retained = set(x['u'])  #(set(x['v']))\n",
    "    users_retained.update(x['v'])\n",
    "    return x, users_retained\n",
    "\n",
    "\n",
    "def show_mat(sdf, rc_order, attr):\n",
    "#     sdf = edf[:10]\n",
    "#     df = pd.crosstab(sdf.u, sdf.v)\n",
    "#     idx = df.columns.union(df.index)\n",
    "#     df = df.reindex(index = idx, columns=idx, fill_value=0)\n",
    "#     G=nx.from_pandas_edgelist(sdf, 'u', 'v')  # nx.from_pandas_dataframe(sdf,'u','v','act_0')\n",
    "#     adj0 = nx.adjacency_matrix(G)\n",
    "#     print(adj0.todense())\n",
    "    \n",
    "    G = nx.from_pandas_edgelist(sdf,'u','v', edge_attr=[attr], create_using=nx.DiGraph)  # print(G[10642984][28642851]['act1'])\n",
    "    m = nx.attr_matrix(G, edge_attr=attr, rc_order=rc_order)\n",
    "    adj_attr = np.array(m)\n",
    "    return adj_attr\n",
    "\n",
    "def filter_edges_by_weight(edf, attr, cut):\n",
    "    x = edf.sort_values(by=attr, ascending=False)[0:cut]\n",
    "    print(len(x))\n",
    "    users_retained = set(x['u'])  #(set(x['v']))\n",
    "    users_retained.update(x['v'])\n",
    "    return x, users_retained\n",
    "\n",
    "sdf, _ = filter_edges_by_users(edf, top_users)\n",
    "users_retained = top_users\n",
    "# sdf1, ur1 = filter_edges_by_weight(edf, 'act1', 20)  # true  act is high\n",
    "# sdf0, ur2 = filter_edges_by_weight(edf, 'act0', 20)  # fake  act is high\n",
    "# sdf = pd.concat([sdf1, sdf0])\n",
    "# users_retained = list(ur1) + list(ur2)\n",
    "\n",
    "# print(sdf)\n",
    "adj0 = show_mat(sdf, users_retained, attr = 'act0')\n",
    "adj1 = show_mat(sdf, users_retained, attr = 'act1')\n",
    "# print(sdf.tail())\n",
    "\n",
    "\n",
    "plt.matshow(adj0, cmap=plt.cm.Blues, label='fake_comp')\n",
    "plt.colorbar()\n",
    "plt.matshow(adj1, cmap=plt.cm.Blues, label='true_comp')\n",
    "plt.colorbar()\n",
    "\n",
    "print()"
   ]
  },
  {
   "cell_type": "code",
   "execution_count": 63,
   "metadata": {},
   "outputs": [
    {
     "name": "stdout",
     "output_type": "stream",
     "text": [
      "20\n",
      "20\n",
      "\n"
     ]
    },
    {
     "data": {
      "image/png": "[encoded data removed]",
      "text/plain": [
       "<Figure size 288x288 with 2 Axes>"
      ]
     },
     "metadata": {
      "needs_background": "light"
     },
     "output_type": "display_data"
    },
    {
     "data": {
      "image/png": "[encoded data removed]",
      "text/plain": [
       "<Figure size 288x288 with 2 Axes>"
      ]
     },
     "metadata": {
      "needs_background": "light"
     },
     "output_type": "display_data"
    },
    {
     "data": {
      "image/png": "[encoded data removed]",
      "text/plain": [
       "<Figure size 288x288 with 2 Axes>"
      ]
     },
     "metadata": {
      "needs_background": "light"
     },
     "output_type": "display_data"
    },
    {
     "data": {
      "image/png": "[encoded data removed]",
      "text/plain": [
       "<Figure size 288x288 with 2 Axes>"
      ]
     },
     "metadata": {
      "needs_background": "light"
     },
     "output_type": "display_data"
    }
   ],
   "source": [
    "sdf, users_retained = filter_edges_by_weight(edf, 'act0', 20)  # fake act is high\n",
    "# print(sdf)\n",
    "adj0 = show_mat(sdf, users_retained, attr = 'act0')\n",
    "adj1 = show_mat(sdf, users_retained, attr = 'act1')\n",
    "# print(sdf.tail())\n",
    "\n",
    "\n",
    "plt.matshow(adj0, cmap=plt.cm.Blues, label='fake_comp')\n",
    "plt.colorbar()\n",
    "plt.matshow(adj1, cmap=plt.cm.Blues, label='true_comp')\n",
    "plt.colorbar()\n",
    "\n",
    "sdf, users_retained = filter_edges_by_weight(edf, 'act1', 20)  # true act is high\n",
    "# print(sdf)\n",
    "adj0 = show_mat(sdf, users_retained, attr = 'act0')\n",
    "adj1 = show_mat(sdf, users_retained, attr = 'act1')\n",
    "# print(sdf.tail())\n",
    "\n",
    "\n",
    "plt.matshow(adj0, cmap=plt.cm.Blues, label='fake_comp')\n",
    "plt.colorbar()\n",
    "plt.matshow(adj1, cmap=plt.cm.Blues, label='true_comp')\n",
    "plt.colorbar()\n",
    "\n",
    "print()"
   ]
  },
  {
   "cell_type": "code",
   "execution_count": null,
   "metadata": {},
   "outputs": [],
   "source": []
  }
 ],
 "metadata": {
  "kernelspec": {
   "display_name": "Python 3",
   "language": "python",
   "name": "python3"
  },
  "language_info": {
   "codemirror_mode": {
    "name": "ipython",
    "version": 3
   },
   "file_extension": ".py",
   "mimetype": "text/x-python",
   "name": "python",
   "nbconvert_exporter": "python",
   "pygments_lexer": "ipython3",
   "version": "3.8.3"
  }
 },
 "nbformat": 4,
 "nbformat_minor": 4
}
